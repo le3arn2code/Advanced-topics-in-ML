{
  "cells": [
    {
      "cell_type": "code",
      "execution_count": null,
      "metadata": {},
      "outputs": [],
      "source": [
        "import sys, numpy as np, pandas as pd, matplotlib, seaborn as sns, sklearn, tensorflow as tf, torch\n",
        "print(\"Python:\", sys.version)\n",
        "print(\"NumPy:\", np.__version__); print(\"Pandas:\", pd.__version__)\n",
        "print(\"Matplotlib:\", matplotlib.__version__); print(\"Seaborn:\", sns.__version__)\n",
        "print(\"scikit-learn:\", sklearn.__version__)\n",
        "print(\"TensorFlow:\", tf.__version__); print(\"TF GPUs:\", tf.config.list_physical_devices('GPU'))\n",
        "print(\"PyTorch:\", torch.__version__); print(\"Torch CUDA available:\", torch.cuda.is_available())\n"
      ]
    }
  ],
  "metadata": {
    "kernelspec": {
      "display_name": "Python 3",
      "language": "python",
      "name": "python3"
    }
  },
  "nbformat": 4,
  "nbformat_minor": 5
}